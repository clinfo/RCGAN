{
 "cells": [
  {
   "cell_type": "markdown",
   "metadata": {},
   "source": [
    "## TSTR(Train on synthetic, test on real)"
   ]
  },
  {
   "cell_type": "code",
   "execution_count": 2,
   "metadata": {
    "collapsed": true
   },
   "outputs": [],
   "source": [
    "import numpy as np"
   ]
  },
  {
   "cell_type": "code",
   "execution_count": 3,
   "metadata": {},
   "outputs": [],
   "source": [
    "REAL_FILE_NAME = 'inputs/sin_wave.npz'  # real data for mmd\n",
    "GENERETED_FILE_NAME = 'outputs/samples.npz'  # generated samples"
   ]
  },
  {
   "cell_type": "code",
   "execution_count": 17,
   "metadata": {},
   "outputs": [
    {
     "name": "stdout",
     "output_type": "stream",
     "text": [
      "(2000, 30, 1)\n",
      "(2000,)\n"
     ]
    }
   ],
   "source": [
    "npz = np.load(GENERETED_FILE_NAME)\n",
    "X_train, y_train = npz['x'], npz['y']\n",
    "print(X_train.shape)\n",
    "print(y_train.shape)"
   ]
  },
  {
   "cell_type": "code",
   "execution_count": 18,
   "metadata": {},
   "outputs": [
    {
     "name": "stdout",
     "output_type": "stream",
     "text": [
      "(9000, 30, 1)\n",
      "(9000,)\n"
     ]
    }
   ],
   "source": [
    "npz = np.load(REAL_FILE_NAME)\n",
    "X_test, y_test = npz['x'], npz['y']\n",
    "print(X_test.shape)\n",
    "print(y_test.shape)"
   ]
  },
  {
   "cell_type": "code",
   "execution_count": 8,
   "metadata": {},
   "outputs": [],
   "source": [
    "import numpy as np\n",
    "from keras.models import Sequential\n",
    "from keras.layers import Input, Dense\n",
    "from keras.layers import Dropout\n",
    "from keras.layers.recurrent import LSTM\n",
    "from keras.utils import np_utils\n",
    "from keras.callbacks import EarlyStopping"
   ]
  },
  {
   "cell_type": "code",
   "execution_count": 22,
   "metadata": {},
   "outputs": [],
   "source": [
    "# hyper parameter for training\n",
    "seq_length = X_train.shape[1]\n",
    "input_dim = X_train.shape[2]\n",
    "num_classes = 3\n",
    "num_epochs = 10\n",
    "batch_size = 32\n",
    "hidden_dim = 128\n",
    "# to one-hot vector\n",
    "y_train = np_utils.to_categorical(y_train, num_classes)\n",
    "y_test = np_utils.to_categorical(y_test, num_classes)"
   ]
  },
  {
   "cell_type": "code",
   "execution_count": 23,
   "metadata": {
    "collapsed": true
   },
   "outputs": [],
   "source": [
    "model = Sequential()\n",
    "model.add(LSTM(units=hidden_dim,\n",
    "               batch_input_shape=(None, seq_length, input_dim),\n",
    "               return_sequences=False))\n",
    "model.add(Dropout(0.5))\n",
    "model.add(Dense(num_classes, activation='softmax'))\n",
    "model.compile(loss=\"categorical_crossentropy\", optimizer=\"rmsprop\",\n",
    "              metrics=['accuracy'])\n",
    "early_stopping = EarlyStopping(monitor='val_loss', patience=0, verbose=1)"
   ]
  },
  {
   "cell_type": "code",
   "execution_count": 24,
   "metadata": {},
   "outputs": [
    {
     "name": "stdout",
     "output_type": "stream",
     "text": [
      "Train on 2000 samples, validate on 9000 samples\n",
      "Epoch 1/10\n",
      "2000/2000 [==============================] - 9s 5ms/step - loss: 0.6389 - acc: 0.6525 - val_loss: 0.5408 - val_acc: 0.6569\n",
      "Epoch 2/10\n",
      "2000/2000 [==============================] - 6s 3ms/step - loss: 0.5092 - acc: 0.7210 - val_loss: 0.4100 - val_acc: 0.8557\n",
      "Epoch 3/10\n",
      "2000/2000 [==============================] - 6s 3ms/step - loss: 0.3785 - acc: 0.8565 - val_loss: 0.2329 - val_acc: 0.9144\n",
      "Epoch 4/10\n",
      "2000/2000 [==============================] - 6s 3ms/step - loss: 0.2197 - acc: 0.9310 - val_loss: 0.0980 - val_acc: 0.9906\n",
      "Epoch 5/10\n",
      "2000/2000 [==============================] - 6s 3ms/step - loss: 0.1335 - acc: 0.9675 - val_loss: 0.0652 - val_acc: 0.9893\n",
      "Epoch 6/10\n",
      "2000/2000 [==============================] - 6s 3ms/step - loss: 0.0981 - acc: 0.9780 - val_loss: 0.0502 - val_acc: 0.9892\n",
      "Epoch 7/10\n",
      "2000/2000 [==============================] - 6s 3ms/step - loss: 0.0788 - acc: 0.9810 - val_loss: 0.0667 - val_acc: 0.9824\n",
      "Epoch 00007: early stopping\n"
     ]
    }
   ],
   "source": [
    "fit = model.fit(X_train, y_train,\n",
    "          batch_size=batch_size,\n",
    "          epochs=num_epochs,\n",
    "          validation_data=[X_test, y_test],\n",
    "          callbacks=[early_stopping])"
   ]
  },
  {
   "cell_type": "code",
   "execution_count": null,
   "metadata": {
    "collapsed": true
   },
   "outputs": [],
   "source": []
  }
 ],
 "metadata": {
  "kernelspec": {
   "display_name": "Python 3",
   "language": "python",
   "name": "python3"
  },
  "language_info": {
   "codemirror_mode": {
    "name": "ipython",
    "version": 3
   },
   "file_extension": ".py",
   "mimetype": "text/x-python",
   "name": "python",
   "nbconvert_exporter": "python",
   "pygments_lexer": "ipython3",
   "version": "3.6.3"
  }
 },
 "nbformat": 4,
 "nbformat_minor": 2
}
