{
 "cells": [
  {
   "cell_type": "code",
   "execution_count": 1,
   "metadata": {
    "collapsed": true
   },
   "outputs": [],
   "source": [
    "import numpy as np\n",
    "import matplotlib.pyplot as plt\n",
    "import json"
   ]
  },
  {
   "cell_type": "code",
   "execution_count": 13,
   "metadata": {
    "collapsed": true
   },
   "outputs": [],
   "source": [
    "FILNAME = 'mnist1.npz'"
   ]
  },
  {
   "cell_type": "code",
   "execution_count": 2,
   "metadata": {},
   "outputs": [
    {
     "data": {
      "text/plain": [
       "{'data': ['rotMNIST/data/000000.data.npy'],\n",
       " 'input': ['rotMNIST/data/000000.input.npy'],\n",
       " 'interval': ['rotMNIST/data/000000.interval.npy'],\n",
       " 'label': 10,\n",
       " 'mask': ['rotMNIST/data/000000.mask.npy'],\n",
       " 'state': ['rotMNIST/data/000000.state.npy']}"
      ]
     },
     "execution_count": 2,
     "metadata": {},
     "output_type": "execute_result"
    }
   ],
   "source": [
    "jfile = open('rotMNIST/rotMNIST.json', 'r')\n",
    "json_dic = json.load(jfile)\n",
    "json_dic['rotMNIST/data/000000']"
   ]
  },
  {
   "cell_type": "code",
   "execution_count": 3,
   "metadata": {
    "collapsed": true
   },
   "outputs": [],
   "source": [
    "def seq_padding(data, max_seq, pad_value=1):\n",
    "    seq, dim = data.shape\n",
    "    if max_seq > seq:\n",
    "        diff_seq = max_seq - seq\n",
    "        pad_seq = np.zeros((diff_seq, dim)) + pad_value\n",
    "        pad_data = np.concatenate([data, pad_seq], axis=0)\n",
    "        return pad_data\n",
    "    else:\n",
    "        return data[:max_seq]"
   ]
  },
  {
   "cell_type": "code",
   "execution_count": 20,
   "metadata": {},
   "outputs": [
    {
     "name": "stdout",
     "output_type": "stream",
     "text": [
      "loading ... 0\n",
      "loading ... 100\n",
      "loading ... 200\n",
      "load complete !\n",
      "\n",
      "\n",
      "data shape ..  (300, 30, 784)\n",
      "label shape .. (300,)\n",
      "label classes .. 2\n"
     ]
    }
   ],
   "source": [
    "# load SyntheticMedData\n",
    "samples = 300\n",
    "max_seq = 30\n",
    "input_dim = 784\n",
    "\n",
    "data_arr = np.empty((samples, max_seq, input_dim))\n",
    "\n",
    "label_list = []\n",
    "for idx in range(samples):\n",
    "    if idx % 100 == 0: print('loading ... {}'.format(idx))\n",
    "    idx_str = '{0:06d}'.format(idx)\n",
    "    npy_file = json_dic['rotMNIST/data/' + idx_str]['data'][0]\n",
    "    data_arr[idx] = seq_padding(np.load(npy_file), max_seq)\n",
    "    label = json_dic['rotMNIST/data/' + idx_str]['label']\n",
    "    label_list.append(label)\n",
    "print('load complete !')\n",
    "print('\\n')\n",
    "print('data shape .. ', data_arr.shape)\n",
    "print('label shape ..', np.array(label_list).shape)\n",
    "print('label classes ..', len(np.unique(np.array(label_list))))"
   ]
  },
  {
   "cell_type": "code",
   "execution_count": 21,
   "metadata": {},
   "outputs": [],
   "source": [
    "assert np.isnan(data_arr).any() == False, 'inputs data have null value. RCGAN do not allow null value'"
   ]
  },
  {
   "cell_type": "code",
   "execution_count": 24,
   "metadata": {},
   "outputs": [
    {
     "name": "stdout",
     "output_type": "stream",
     "text": [
      "data is saved in mnist1.npz\n"
     ]
    }
   ],
   "source": [
    "np.savez(FILNAME, x=data_arr, y=np.array(label_list))\n",
    "print('data is saved in {}'.format(FILNAME))"
   ]
  },
  {
   "cell_type": "code",
   "execution_count": null,
   "metadata": {
    "collapsed": true
   },
   "outputs": [],
   "source": []
  }
 ],
 "metadata": {
  "kernelspec": {
   "display_name": "Python 3",
   "language": "python",
   "name": "python3"
  },
  "language_info": {
   "codemirror_mode": {
    "name": "ipython",
    "version": 3
   },
   "file_extension": ".py",
   "mimetype": "text/x-python",
   "name": "python",
   "nbconvert_exporter": "python",
   "pygments_lexer": "ipython3",
   "version": "3.6.3"
  }
 },
 "nbformat": 4,
 "nbformat_minor": 2
}
