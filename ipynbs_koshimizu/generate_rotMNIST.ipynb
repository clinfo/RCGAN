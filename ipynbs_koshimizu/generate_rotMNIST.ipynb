{
 "cells": [
  {
   "cell_type": "code",
   "execution_count": 1,
   "metadata": {},
   "outputs": [],
   "source": [
    "from keras.models import model_from_json\n",
    "import numpy as np\n",
    "import matplotlib.pyplot as plt\n",
    "import utils\n",
    "%matplotlib inline"
   ]
  },
  {
   "cell_type": "code",
   "execution_count": 2,
   "metadata": {},
   "outputs": [
    {
     "name": "stderr",
     "output_type": "stream",
     "text": [
      "WARNING: Logging before flag parsing goes to stderr.\n",
      "W0826 00:43:58.565310 140092949608192 deprecation_wrapper.py:119] From /home/hiroshi_koshimizu/miniconda3/envs/gan-research/lib/python3.6/site-packages/keras/backend/tensorflow_backend.py:517: The name tf.placeholder is deprecated. Please use tf.compat.v1.placeholder instead.\n",
      "\n",
      "W0826 00:43:59.278285 140092949608192 deprecation_wrapper.py:119] From /home/hiroshi_koshimizu/miniconda3/envs/gan-research/lib/python3.6/site-packages/keras/backend/tensorflow_backend.py:4138: The name tf.random_uniform is deprecated. Please use tf.random.uniform instead.\n",
      "\n",
      "W0826 00:43:59.758150 140092949608192 deprecation_wrapper.py:119] From /home/hiroshi_koshimizu/miniconda3/envs/gan-research/lib/python3.6/site-packages/keras/backend/tensorflow_backend.py:174: The name tf.get_default_session is deprecated. Please use tf.compat.v1.get_default_session instead.\n",
      "\n",
      "W0826 00:43:59.759302 140092949608192 deprecation_wrapper.py:119] From /home/hiroshi_koshimizu/miniconda3/envs/gan-research/lib/python3.6/site-packages/keras/backend/tensorflow_backend.py:181: The name tf.ConfigProto is deprecated. Please use tf.compat.v1.ConfigProto instead.\n",
      "\n",
      "W0826 00:43:59.760629 140092949608192 deprecation_wrapper.py:119] From /home/hiroshi_koshimizu/miniconda3/envs/gan-research/lib/python3.6/site-packages/keras/backend/tensorflow_backend.py:186: The name tf.Session is deprecated. Please use tf.compat.v1.Session instead.\n",
      "\n"
     ]
    }
   ],
   "source": [
    "# load learned model\n",
    "generator = model_from_json(open('models/generator_model.json').read())\n",
    "generator.load_weights('models/generator_weight.h5')\n",
    "discriminator = model_from_json(open('models/discriminator_model.json').read())\n",
    "discriminator.load_weights('models/discriminator_weight.h5')"
   ]
  },
  {
   "cell_type": "code",
   "execution_count": 3,
   "metadata": {},
   "outputs": [],
   "source": [
    "batch_size = 32\n",
    "input_dim = 784\n",
    "seq_length = 10\n",
    "latent_dim = 500\n",
    "num_classes = 10"
   ]
  },
  {
   "cell_type": "code",
   "execution_count": 4,
   "metadata": {},
   "outputs": [],
   "source": [
    "def generate_samples(num_samples):\n",
    "    gen_x = []\n",
    "    gen_y = []\n",
    "    gen_iter = (num_samples // batch_size) + 1\n",
    "    for i in range(0, gen_iter):\n",
    "        noise = np.random.normal(0, 1, (batch_size, seq_length, latent_dim))\n",
    "        sample_c = np.random.randint(0, num_classes, batch_size)\n",
    "        gen_x.extend(generator.predict([noise, sample_c]))\n",
    "        gen_y.extend(sample_c)\n",
    "    gen_x_arr = np.array(gen_x)\n",
    "    gen_y_arr = np.array(gen_y)\n",
    "    return (gen_x_arr[:num_samples], gen_y_arr[:num_samples])"
   ]
  },
  {
   "cell_type": "code",
   "execution_count": 5,
   "metadata": {},
   "outputs": [],
   "source": [
    "gen_x, gen_y = generate_samples(num_samples=100)"
   ]
  },
  {
   "cell_type": "code",
   "execution_count": 6,
   "metadata": {},
   "outputs": [],
   "source": [
    "utils.draw_rotmnist(gen_x[:15], gen_y[:15], 30)"
   ]
  },
  {
   "cell_type": "code",
   "execution_count": null,
   "metadata": {},
   "outputs": [],
   "source": []
  }
 ],
 "metadata": {
  "kernelspec": {
   "display_name": "Python 3",
   "language": "python",
   "name": "python3"
  },
  "language_info": {
   "codemirror_mode": {
    "name": "ipython",
    "version": 3
   },
   "file_extension": ".py",
   "mimetype": "text/x-python",
   "name": "python",
   "nbconvert_exporter": "python",
   "pygments_lexer": "ipython3",
   "version": "3.6.8"
  }
 },
 "nbformat": 4,
 "nbformat_minor": 4
}
