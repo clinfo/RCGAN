{
 "cells": [
  {
   "cell_type": "markdown",
   "metadata": {
    "toc-hr-collapsed": false
   },
   "source": [
    "# 84 Days BP Data\n",
    "* GAN用の14日間分のデータを用意する: SBP,DBP,PUL (3 dim) "
   ]
  },
  {
   "cell_type": "code",
   "execution_count": 1,
   "metadata": {},
   "outputs": [],
   "source": [
    "import mojimoji\n",
    "import matplotlib.pyplot as plt\n",
    "import numpy as np\n",
    "import pandas as pd\n",
    "import re"
   ]
  },
  {
   "cell_type": "markdown",
   "metadata": {},
   "source": [
    "## Reading Data"
   ]
  },
  {
   "cell_type": "code",
   "execution_count": 2,
   "metadata": {},
   "outputs": [],
   "source": [
    "df_bp = pd.read_csv(\n",
    "    r'/home/hiroshi_koshimizu/work/dataset/P005_BpData_180424.csv', \n",
    "    encoding = 'shift-jis', \n",
    "    engine = 'python',\n",
    "    index_col = 'Unnamed: 0'\n",
    ")"
   ]
  },
  {
   "cell_type": "markdown",
   "metadata": {},
   "source": [
    "## Convert String"
   ]
  },
  {
   "cell_type": "code",
   "execution_count": 3,
   "metadata": {},
   "outputs": [],
   "source": [
    "df_bp['Name'] = df_bp['Name'].map(lambda string: mojimoji.zen_to_han(string))\n",
    "df_bp['Name'] = df_bp['Name'].map(lambda string: string.replace('･', '/'))\n",
    "df_bp['Date'] = pd.DatetimeIndex(df_bp['Date'])\n",
    "df_bp['Month'] = df_bp['Date'].map(lambda date:date.month)\n",
    "df_bp['Week'] = df_bp['Date'].map(lambda date:date.week)\n",
    "df_bp['Time'] = df_bp['Time'].map(lambda x :pd.to_datetime(x).time())"
   ]
  },
  {
   "cell_type": "markdown",
   "metadata": {},
   "source": [
    "## Delete useless colomns"
   ]
  },
  {
   "cell_type": "code",
   "execution_count": 4,
   "metadata": {},
   "outputs": [
    {
     "data": {
      "text/plain": [
       "Index(['Name', 'Birth', 'Age', 'Sex', 'Date', 'Time', 'Type', 'SBP', 'DBP',\n",
       "       'PUL', 'Fit', 'Move', 'Temp', 'Irr.PUL', 'Check', 'Meas_Time', 'Month',\n",
       "       'Week'],\n",
       "      dtype='object')"
      ]
     },
     "execution_count": 4,
     "metadata": {},
     "output_type": "execute_result"
    }
   ],
   "source": [
    "df_bp.columns"
   ]
  },
  {
   "cell_type": "code",
   "execution_count": 5,
   "metadata": {},
   "outputs": [],
   "source": [
    "df_bp = df_bp.drop(['Birth', 'Age', 'Sex', 'Fit', 'Move', 'Check', 'Irr.PUL', 'Meas_Time', 'Week', 'Month'], axis = 1)"
   ]
  },
  {
   "cell_type": "markdown",
   "metadata": {},
   "source": [
    "## Extract Type"
   ]
  },
  {
   "cell_type": "code",
   "execution_count": 74,
   "metadata": {},
   "outputs": [],
   "source": [
    "#血圧情報の時間単位のME判定\n",
    "def ml_bpdata_mejudge(dataframe, start = [[],[]], end = [[],[]]):\n",
    "    import datetime\n",
    "    tmp = dataframe.copy()\n",
    "    tmp['Type'] = None\n",
    "    \n",
    "    #Type Mを振りなおし\n",
    "    flag = np.logical_and(\n",
    "        tmp['Time'] >= datetime.time(start[0][0],start[0][1], start[0][2]),\n",
    "        tmp['Time'] < datetime.time(end[0][0],end[0][1], end[0][2])\n",
    "    )\n",
    "    tmp.loc[flag, 'Type'] = 'M'\n",
    "    \n",
    "    #Type Eを振り直し\n",
    "    flag = np.logical_or(\n",
    "        tmp['Time'] >= datetime.time(start[1][0],start[1][1], start[1][2]),\n",
    "        tmp['Time'] < datetime.time(end[1][0],end[1][1], end[1][2])\n",
    "    )\n",
    "    tmp.loc[flag, 'Type'] = 'E'\n",
    "    \n",
    "    tmp = tmp[np.logical_or(tmp['Type'] == 'M', tmp['Type'] == 'E')]\n",
    "    \n",
    "    return tmp.reset_index(drop = True)\n",
    "#晩測定の時間シフト\n",
    "def ml_bpdata_eshift(dataframe, e_end_time):\n",
    "    import datetime\n",
    "    tmp = dataframe.copy()\n",
    "    flag = tmp['Time'] < datetime.time(e_end_time[0],e_end_time[1],e_end_time[2])\n",
    "    tmp.loc[flag,'Date'] = tmp.loc[flag, 'Date'] - datetime.timedelta(days = 1)\n",
    "    tmp['Time'] = tmp['Time'].map(lambda x:x.hour)\n",
    "    tmp_time = tmp.loc[tmp['Time'] < 2, 'Time'].copy()\n",
    "    #24時間異常表現\n",
    "    tmp.loc[tmp['Time'] < 2, 'Time'] = tmp_time + 24\n",
    "    return tmp.reset_index(drop = True)"
   ]
  },
  {
   "cell_type": "code",
   "execution_count": 75,
   "metadata": {},
   "outputs": [],
   "source": [
    "test_tmp = ml_bpdata_mejudge(df_bp, start = [[4,0,0],[18,0,0]], end = [[12,0,0],[2,0,0]])\n",
    "test_tmp = ml_bpdata_eshift(test_tmp, e_end_time = [2,0,0])"
   ]
  },
  {
   "cell_type": "code",
   "execution_count": 76,
   "metadata": {},
   "outputs": [],
   "source": [
    "test_tmp.loc[test_tmp['Temp'] == 'LO', 'Temp'] = -1\n",
    "test_tmp['Temp'] = test_tmp['Temp'].astype('float')"
   ]
  },
  {
   "cell_type": "code",
   "execution_count": 77,
   "metadata": {},
   "outputs": [],
   "source": [
    "#MEデータのみする\n",
    "test_e = test_tmp[test_tmp['Type']== 'E']\n",
    "test_m = test_tmp[test_tmp['Type']== 'M']"
   ]
  },
  {
   "cell_type": "code",
   "execution_count": 78,
   "metadata": {},
   "outputs": [],
   "source": [
    "#MEデータ抽出物\n",
    "def gen_dayme_data(df, name, me_type = 'M' ):\n",
    "    tmp = df[df['Name'] == name].copy().reset_index(drop = True)\n",
    "    if me_type == 'M':\n",
    "        df_list = map( lambda x: tmp[tmp['Date']==x][:2], tmp['Date'].unique() )\n",
    "    else:\n",
    "        df_list = map( lambda x: tmp[tmp['Date']==x][-2:], tmp['Date'].unique())\n",
    "    return pd.concat(df_list, axis = 0)"
   ]
  },
  {
   "cell_type": "code",
   "execution_count": 79,
   "metadata": {},
   "outputs": [],
   "source": [
    "#晩抽出\n",
    "test_e = pd.concat(\n",
    "    list(\n",
    "        map( \n",
    "            lambda x : gen_dayme_data(test_e, x, me_type = 'E'), \n",
    "            test_e['Name'].unique() \n",
    "        )\n",
    "    ), \n",
    "    axis = 0\n",
    ")\n",
    "\n",
    "#朝抽出\n",
    "test_m = pd.concat(\n",
    "    list(\n",
    "        map(\n",
    "            lambda x : gen_dayme_data(test_m, x, me_type = 'M'),\n",
    "            test_m['Name'].unique() \n",
    "        )\n",
    "    ), \n",
    "    axis = 0\n",
    ")"
   ]
  },
  {
   "cell_type": "code",
   "execution_count": 104,
   "metadata": {},
   "outputs": [],
   "source": [
    "#おんどなし\n",
    "#test_all = pd.concat([test_e, test_m], axis = 0).drop(['Time', 'Temp'], axis = 1)\n",
    "#おんどあり\n",
    "test_all = pd.concat([test_e, test_m], axis = 0).drop(['Time'], axis = 1)"
   ]
  },
  {
   "cell_type": "markdown",
   "metadata": {},
   "source": [
    "## Group by"
   ]
  },
  {
   "cell_type": "code",
   "execution_count": 105,
   "metadata": {},
   "outputs": [],
   "source": [
    "test_all = pd.pivot_table(\n",
    "    data = test_all, \n",
    "    index = ['Name','Date'],\n",
    "    columns = ['Type'],\n",
    "    aggfunc = np.mean\n",
    ")\n",
    "test_all.columns = ['_'.join(col_i) for col_i in test_all.columns]\n",
    "test_all.reset_index(inplace = True)"
   ]
  },
  {
   "cell_type": "code",
   "execution_count": 106,
   "metadata": {},
   "outputs": [],
   "source": [
    "def make_fill(df, name):\n",
    "    tmp = df[df['Name'].isin([name])].copy()\n",
    "    tmp = tmp.set_index('Date')\n",
    "    tmp = tmp.resample('D').mean().fillna(method='ffill')\n",
    "    tmp['Name'] = name\n",
    "    return tmp"
   ]
  },
  {
   "cell_type": "code",
   "execution_count": 107,
   "metadata": {},
   "outputs": [],
   "source": [
    "test_all = pd.concat(\n",
    "    list(\n",
    "        map(lambda x: make_fill(test_all, x), test_all['Name'].unique())\n",
    "    )\n",
    ").reset_index().dropna()"
   ]
  },
  {
   "cell_type": "code",
   "execution_count": 109,
   "metadata": {},
   "outputs": [
    {
     "data": {
      "text/plain": [
       "<matplotlib.axes._subplots.AxesSubplot at 0x7f1342ffc4e0>"
      ]
     },
     "execution_count": 109,
     "metadata": {},
     "output_type": "execute_result"
    },
    {
     "data": {
      "image/png": "[encoded data removed]",
      "text/plain": [
       "<Figure size 432x288 with 1 Axes>"
      ]
     },
     "metadata": {
      "needs_background": "light"
     },
     "output_type": "display_data"
    }
   ],
   "source": [
    "test_all[test_all['Name'].isin(['N/Predict 0098'])][260:344].plot(x = 'Date', y = ['SBP_M', 'DBP_M', 'PUL_M'])"
   ]
  },
  {
   "cell_type": "code",
   "execution_count": 110,
   "metadata": {},
   "outputs": [
    {
     "data": {
      "text/plain": [
       "<matplotlib.axes._subplots.AxesSubplot at 0x7f1340ba4748>"
      ]
     },
     "execution_count": 110,
     "metadata": {},
     "output_type": "execute_result"
    },
    {
     "data": {
      "image/png": "[encoded data removed]",
      "text/plain": [
       "<Figure size 432x288 with 1 Axes>"
      ]
     },
     "metadata": {
      "needs_background": "light"
     },
     "output_type": "display_data"
    }
   ],
   "source": [
    "#test_all[test_all['Name'].isin(['N/Predict 0098'])].plot(x = 'Date', y = ['SBP_M', 'DBP_M', 'PUL_M'])\n",
    "#test_all[test_all['Name'].isin(['N/Predict 0071'])][60:150].plot(x = 'Date', y = ['SBP_M', 'DBP_M', 'PUL_M'])\n",
    "test_all[test_all['Name'].isin(['N/Predict 0093'])][60:150].plot(x = 'Date', y = ['SBP_M', 'DBP_M', 'PUL_M'])"
   ]
  },
  {
   "cell_type": "code",
   "execution_count": 111,
   "metadata": {},
   "outputs": [],
   "source": [
    "day_param = 84\n",
    "#df_bp_gr = test_all.groupby(by = ['Name','Date'], as_index = False, observed = True).mean()\n",
    "df_bp_gr = test_all.set_index('Date')\n",
    "#df_bp_gr = df_bp_gr.groupby(['Name'], as_index=False).resample(str(day_param)+'D', label='left').apply(list)\n",
    "#df_bp_gr = df_bp_gr.reset_index(drop = True)"
   ]
  },
  {
   "cell_type": "code",
   "execution_count": 112,
   "metadata": {},
   "outputs": [],
   "source": [
    "def get_timeseries(df, name, day_param, interval):\n",
    "    tmp = df[df['Name'].isin([name])].resample('1D').mean().copy()\n",
    "    array = []\n",
    "    for inter_i in range( len(tmp) // interval ):\n",
    "        array.append(tmp[inter_i*interval:day_param+inter_i*interval].T.values.flatten().tolist() + [name])\n",
    "    return pd.DataFrame(array)"
   ]
  },
  {
   "cell_type": "code",
   "execution_count": 113,
   "metadata": {},
   "outputs": [],
   "source": [
    "target_df = pd.concat(\n",
    "    list(\n",
    "        map(\n",
    "            lambda x: get_timeseries(df_bp_gr, x, day_param, 28),\n",
    "            df_bp_gr['Name'].unique()\n",
    "        )\n",
    "    )\n",
    ")"
   ]
  },
  {
   "cell_type": "code",
   "execution_count": 114,
   "metadata": {},
   "outputs": [],
   "source": [
    "columns = []\n",
    "for col_name in df_bp_gr.columns[0:-1]:\n",
    "    columns.extend([col_name + str(i+1) for i in range(day_param)])\n",
    "target_df.columns = columns + ['Name']"
   ]
  },
  {
   "cell_type": "code",
   "execution_count": 115,
   "metadata": {},
   "outputs": [],
   "source": [
    "target_df.dropna(inplace = True)"
   ]
  },
  {
   "cell_type": "code",
   "execution_count": 116,
   "metadata": {},
   "outputs": [
    {
     "data": {
      "text/plain": [
       "(9136, 673)"
      ]
     },
     "execution_count": 116,
     "metadata": {},
     "output_type": "execute_result"
    }
   ],
   "source": [
    "target_df.shape"
   ]
  },
  {
   "cell_type": "markdown",
   "metadata": {},
   "source": [
    "## Determine labels"
   ]
  },
  {
   "cell_type": "code",
   "execution_count": 117,
   "metadata": {},
   "outputs": [],
   "source": [
    "target_df['msbp'] = target_df.loc[:, 'SBP_M1':'SBP_M84'].mean(axis = 1)\n",
    "target_df['mdbp'] = target_df.loc[:, 'DBP_M1':'DBP_M84'].mean(axis = 1)\n",
    "target_df.reset_index(inplace = True, drop = True)"
   ]
  },
  {
   "cell_type": "code",
   "execution_count": 118,
   "metadata": {},
   "outputs": [],
   "source": [
    "target_df['labels'] = 0\n",
    "s_hyflag = target_df['msbp'] >= 135\n",
    "target_df.loc[s_hyflag == True, 'labels'] = int(1)\n",
    "\n",
    "d_hyflag = target_df['mdbp'] >= 85\n",
    "target_df.loc[d_hyflag == True, 'labels'] = int(2)\n",
    "\n",
    "sd_hyflag = np.logical_and( target_df['msbp'] >= 135, target_df['mdbp'] >= 85)\n",
    "target_df.loc[sd_hyflag == True, 'labels'] = int(3)\n",
    "\n",
    "sd_hyflag = target_df['msbp'] >= 150\n",
    "target_df.loc[sd_hyflag == True, 'labels'] = int(4)"
   ]
  },
  {
   "cell_type": "code",
   "execution_count": 119,
   "metadata": {},
   "outputs": [
    {
     "data": {
      "text/plain": [
       "0    5969\n",
       "1    1075\n",
       "2     956\n",
       "3     853\n",
       "4     283\n",
       "Name: labels, dtype: int64"
      ]
     },
     "execution_count": 119,
     "metadata": {},
     "output_type": "execute_result"
    }
   ],
   "source": [
    "target_df['labels'].value_counts()"
   ]
  },
  {
   "cell_type": "code",
   "execution_count": 120,
   "metadata": {},
   "outputs": [],
   "source": [
    "target_df_arr = target_df.iloc[:, :-4].values.reshape(\n",
    "    len(target_df), \n",
    "    len(target_df.iloc[:, :-4].columns) // day_param, \n",
    "    day_param\n",
    ").transpose(0,2,1)"
   ]
  },
  {
   "cell_type": "code",
   "execution_count": 121,
   "metadata": {},
   "outputs": [
    {
     "data": {
      "text/plain": [
       "(9136, 84, 8)"
      ]
     },
     "execution_count": 121,
     "metadata": {},
     "output_type": "execute_result"
    }
   ],
   "source": [
    "target_df_arr.shape"
   ]
  },
  {
   "cell_type": "markdown",
   "metadata": {},
   "source": [
    "## Wirte Data"
   ]
  },
  {
   "cell_type": "code",
   "execution_count": 122,
   "metadata": {},
   "outputs": [],
   "source": [
    "np.savez('/home/hiroshi_koshimizu/work/RCGAN/inputs/bp_data_84_with_temp.npz',x = target_df_arr, y = target_df['labels'].values)"
   ]
  },
  {
   "cell_type": "code",
   "execution_count": 123,
   "metadata": {},
   "outputs": [
    {
     "data": {
      "text/plain": [
       "0    5969\n",
       "1    1075\n",
       "2     956\n",
       "3     853\n",
       "4     283\n",
       "Name: labels, dtype: int64"
      ]
     },
     "execution_count": 123,
     "metadata": {},
     "output_type": "execute_result"
    }
   ],
   "source": [
    "target_df['labels'].value_counts()"
   ]
  },
  {
   "cell_type": "code",
   "execution_count": 124,
   "metadata": {},
   "outputs": [
    {
     "data": {
      "text/plain": [
       "array(['N/Predict 0001', 'N/Predict 0002', 'N/Predict 0069',\n",
       "       'N/Predict 0070', 'N/Predict 0071', 'N/Predict 0075',\n",
       "       'N/Predict 0090', 'N/Predict 0093', 'N/Predict 0094',\n",
       "       'N/Predict 0099', 'N/Predict 0152', 'N/Predict 0168',\n",
       "       'N/Predict 0229', 'N/Predict 0254', 'N/Predict 0261',\n",
       "       'N/Predict 0272', 'N/Predict 0278', 'N/Predict 0302',\n",
       "       'N/Predict 0343', 'N/Predict 0356', 'N/Predict 0390',\n",
       "       'N/Predict 0445', 'N/Predict 0452', 'N/Predict 0453',\n",
       "       'N/Predict 0539', 'N/Predict 0541', 'N/Predict 0647',\n",
       "       'N/Predict 0649', 'N/Predict 0657', 'N/Predict 0671',\n",
       "       'N/Predict 0672', 'N/Predict 0678', 'N/Predict 0695',\n",
       "       'N/Predict 0707', 'N/Predict 0823', 'N/Predict 1017',\n",
       "       'N/Predict 1025', 'N/Predict 1031', 'N/Predict 1040',\n",
       "       'N/Predict 1041'], dtype=object)"
      ]
     },
     "execution_count": 124,
     "metadata": {},
     "output_type": "execute_result"
    }
   ],
   "source": [
    "target_df.loc[target_df['labels'] == 4, 'Name'].unique()"
   ]
  },
  {
   "cell_type": "code",
   "execution_count": 125,
   "metadata": {},
   "outputs": [
    {
     "data": {
      "text/plain": [
       "array([[[76.5, 85.0, 71.5, ..., 155.5, 11.0, 13.0],\n",
       "        [86.5, 90.5, 71.0, ..., 159.0, 9.0, 9.0],\n",
       "        [73.0, 75.0, 65.5, ..., 122.0, 8.5, 10.0],\n",
       "        ...,\n",
       "        [76.0, 80.5, 71.5, ..., 140.0, 20.0, 19.0],\n",
       "        [76.0, 84.5, 71.5, ..., 143.5, 20.0, 19.0],\n",
       "        [71.0, 77.5, 70.5, ..., 136.0, 20.0, 21.0]],\n",
       "\n",
       "       [[78.0, 77.5, 69.0, ..., 144.5, 13.0, 14.0],\n",
       "        [78.5, 80.0, 66.0, ..., 152.5, 11.0, 13.0],\n",
       "        [78.5, 89.0, 71.0, ..., 173.0, 12.0, 11.0],\n",
       "        ...,\n",
       "        [71.0, 76.5, 67.5, ..., 129.0, 27.0, 24.0],\n",
       "        [73.0, 75.0, 64.5, ..., 125.0, 26.0, 24.0],\n",
       "        [73.5, 74.0, 63.0, ..., 123.0, 25.0, 25.0]],\n",
       "\n",
       "       [[70.0, 82.0, 66.0, ..., 146.5, 15.0, 13.0],\n",
       "        [78.0, 75.5, 66.0, ..., 146.0, 15.0, 13.0],\n",
       "        [75.0, 78.5, 71.5, ..., 154.5, 18.0, 13.0],\n",
       "        ...,\n",
       "        [75.0, 73.0, 63.5, ..., 128.0, 26.0, 27.0],\n",
       "        [75.5, 75.5, 69.0, ..., 140.0, 29.0, 24.0],\n",
       "        [68.0, 77.0, 66.0, ..., 128.5, 27.0, 26.0]],\n",
       "\n",
       "       ...,\n",
       "\n",
       "       [[58.5, 60.5, 62.0, ..., 118.5, 24.0, 28.0],\n",
       "        [52.5, 69.0, 63.5, ..., 128.0, 26.0, 27.0],\n",
       "        [59.0, 54.0, 62.5, ..., 121.0, 25.0, 25.0],\n",
       "        ...,\n",
       "        [56.5, 64.0, 65.0, ..., 126.5, 25.0, 27.0],\n",
       "        [54.5, 61.0, 62.0, ..., 125.5, 25.0, 26.0],\n",
       "        [60.5, 67.5, 66.0, ..., 128.5, 25.0, 26.0]],\n",
       "\n",
       "       [[58.5, 64.0, 64.0, ..., 128.0, 24.5, 26.0],\n",
       "        [62.0, 64.0, 64.0, ..., 128.0, 25.5, 26.0],\n",
       "        [67.0, 60.0, 64.5, ..., 128.0, 25.0, 26.0],\n",
       "        ...,\n",
       "        [56.0, 61.0, 62.5, ..., 126.0, 20.5, 27.0],\n",
       "        [56.5, 59.5, 67.5, ..., 117.5, 21.5, 27.0],\n",
       "        [59.5, 59.0, 63.0, ..., 120.0, 22.5, 26.0]],\n",
       "\n",
       "       [[57.5, 62.0, 59.5, ..., 127.5, 26.0, 27.0],\n",
       "        [57.0, 65.5, 65.0, ..., 126.0, 26.0, 27.0],\n",
       "        [58.0, 59.5, 62.5, ..., 127.5, 26.0, 27.0],\n",
       "        ...,\n",
       "        [59.0, 61.0, 63.0, ..., 123.5, 26.0, 26.0],\n",
       "        [56.0, 63.0, 62.5, ..., 130.5, 24.0, 25.0],\n",
       "        [54.5, 62.0, 64.5, ..., 127.5, 25.0, 26.0]]], dtype=object)"
      ]
     },
     "execution_count": 125,
     "metadata": {},
     "output_type": "execute_result"
    }
   ],
   "source": [
    "target_df_arr"
   ]
  },
  {
   "cell_type": "code",
   "execution_count": null,
   "metadata": {},
   "outputs": [],
   "source": []
  }
 ],
 "metadata": {
  "kernelspec": {
   "display_name": "Python 3",
   "language": "python",
   "name": "python3"
  },
  "language_info": {
   "codemirror_mode": {
    "name": "ipython",
    "version": 3
   },
   "file_extension": ".py",
   "mimetype": "text/x-python",
   "name": "python",
   "nbconvert_exporter": "python",
   "pygments_lexer": "ipython3",
   "version": "3.6.8"
  }
 },
 "nbformat": 4,
 "nbformat_minor": 4
}
