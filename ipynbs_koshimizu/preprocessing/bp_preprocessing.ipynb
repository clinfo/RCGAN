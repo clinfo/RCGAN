{
 "cells": [
  {
   "cell_type": "code",
   "execution_count": 1,
   "metadata": {},
   "outputs": [],
   "source": [
    "import mojimoji\n",
    "import matplotlib.pyplot as plt\n",
    "import numpy as np\n",
    "import pandas as pd\n",
    "import re"
   ]
  },
  {
   "cell_type": "markdown",
   "metadata": {},
   "source": [
    "# Reading Data"
   ]
  },
  {
   "cell_type": "code",
   "execution_count": 2,
   "metadata": {},
   "outputs": [],
   "source": [
    "df_bp = pd.read_csv(\n",
    "    r'/home/hiroshi_koshimizu/work/dataset/P005_BpData_180424.csv', \n",
    "    encoding = 'shift-jis', \n",
    "    engine = 'python',\n",
    "    index_col = 'Unnamed: 0'\n",
    ")"
   ]
  },
  {
   "cell_type": "markdown",
   "metadata": {},
   "source": [
    "# Convert String"
   ]
  },
  {
   "cell_type": "code",
   "execution_count": 3,
   "metadata": {},
   "outputs": [],
   "source": [
    "df_bp['Name'] = df_bp['Name'].map(lambda string: mojimoji.zen_to_han(string))\n",
    "df_bp['Name'] = df_bp['Name'].map(lambda string: string.replace('･', '/'))\n",
    "df_bp['Date'] = pd.DatetimeIndex(df_bp['Date'])\n",
    "df_bp['Month'] = df_bp['Date'].map(lambda date:date.month)\n",
    "df_bp['Week'] = df_bp['Date'].map(lambda date:date.week)"
   ]
  },
  {
   "cell_type": "markdown",
   "metadata": {},
   "source": [
    "# Delete useless colomns"
   ]
  },
  {
   "cell_type": "code",
   "execution_count": 4,
   "metadata": {},
   "outputs": [
    {
     "data": {
      "text/plain": [
       "Index(['Name', 'Birth', 'Age', 'Sex', 'Date', 'Time', 'Type', 'SBP', 'DBP',\n",
       "       'PUL', 'Fit', 'Move', 'Temp', 'Irr.PUL', 'Check', 'Meas_Time', 'Month',\n",
       "       'Week'],\n",
       "      dtype='object')"
      ]
     },
     "execution_count": 4,
     "metadata": {},
     "output_type": "execute_result"
    }
   ],
   "source": [
    "df_bp.columns"
   ]
  },
  {
   "cell_type": "code",
   "execution_count": 5,
   "metadata": {},
   "outputs": [],
   "source": [
    "df_bp = df_bp.drop(['Birth', 'Age', 'Sex', 'Fit', 'Move', 'Check', 'Irr.PUL', 'Meas_Time', 'Week', 'Month'], axis = 1)"
   ]
  },
  {
   "cell_type": "markdown",
   "metadata": {},
   "source": [
    "# Extract Type"
   ]
  },
  {
   "cell_type": "code",
   "execution_count": 6,
   "metadata": {},
   "outputs": [],
   "source": [
    "df_bp = df_bp[df_bp['Type'].isin(['M'])].reset_index(drop = True)"
   ]
  },
  {
   "cell_type": "markdown",
   "metadata": {},
   "source": [
    "# Group by"
   ]
  },
  {
   "cell_type": "code",
   "execution_count": 7,
   "metadata": {},
   "outputs": [],
   "source": [
    "day_param = 14\n",
    "df_bp_gr = df_bp.groupby(by = ['Name','Date'], as_index = False, observed = True).mean()\n",
    "df_bp_gr = df_bp_gr.set_index('Date')\n",
    "df_bp_gr_7d = df_bp_gr.groupby(['Name'], as_index=False).resample(str(day_param)+'D', label='left').apply(list)\n",
    "df_bp_gr_7d = df_bp_gr_7d.reset_index(drop = True)"
   ]
  },
  {
   "cell_type": "code",
   "execution_count": 8,
   "metadata": {},
   "outputs": [],
   "source": [
    "target_df = []\n",
    "for col_name in df_bp_gr_7d.drop('Name', axis = 1).columns:\n",
    "    target_df.append(\n",
    "        pd.DataFrame([ row for row in df_bp_gr_7d[col_name][:]], columns = [col_name + str(i+1) for i in range(day_param)])\n",
    "    )\n",
    "target_df = pd.concat(target_df, axis = 1).dropna()"
   ]
  },
  {
   "cell_type": "markdown",
   "metadata": {},
   "source": [
    "# Determine labels"
   ]
  },
  {
   "cell_type": "code",
   "execution_count": 9,
   "metadata": {},
   "outputs": [],
   "source": [
    "target_df['msbp'] = target_df.loc[:, :'SBP14'].mean(axis = 1)\n",
    "target_df['mdbp'] = target_df.loc[:, 'DBP1':'DBP14'].mean(axis = 1)\n",
    "target_df.reset_index(inplace = True, drop = True)"
   ]
  },
  {
   "cell_type": "code",
   "execution_count": 10,
   "metadata": {},
   "outputs": [],
   "source": [
    "target_df['labels'] = 0\n",
    "s_hyflag = target_df['msbp'] >= 135\n",
    "target_df.loc[s_hyflag == True, 'labels'] = int(1)\n",
    "\n",
    "d_hyflag = target_df['mdbp'] >= 85\n",
    "target_df.loc[d_hyflag == True, 'labels'] = int(2)\n",
    "\n",
    "sd_hyflag = np.logical_and( target_df['msbp'] >= 135, target_df['mdbp'] >= 85)\n",
    "target_df.loc[sd_hyflag == True, 'labels'] = int(3)\n"
   ]
  },
  {
   "cell_type": "code",
   "execution_count": 11,
   "metadata": {},
   "outputs": [],
   "source": [
    "target_df_arr = target_df.iloc[:, :-3].values.reshape(len(target_df), len(target_df.iloc[:, :-3].columns) // day_param, day_param).transpose(0,2,1)"
   ]
  },
  {
   "cell_type": "code",
   "execution_count": 12,
   "metadata": {},
   "outputs": [
    {
     "data": {
      "text/plain": [
       "(8219, 14, 3)"
      ]
     },
     "execution_count": 12,
     "metadata": {},
     "output_type": "execute_result"
    }
   ],
   "source": [
    "target_df_arr.shape"
   ]
  },
  {
   "cell_type": "markdown",
   "metadata": {},
   "source": [
    "# Wirte Data"
   ]
  },
  {
   "cell_type": "code",
   "execution_count": 13,
   "metadata": {},
   "outputs": [],
   "source": [
    "np.savez('/home/hiroshi_koshimizu/work/RCGAN/inputs/bp_data.npz',x = target_df_arr, y = target_df['labels'].values)"
   ]
  },
  {
   "cell_type": "code",
   "execution_count": 14,
   "metadata": {},
   "outputs": [
    {
     "data": {
      "text/plain": [
       "0    5960\n",
       "1    1241\n",
       "3     514\n",
       "2     504\n",
       "Name: labels, dtype: int64"
      ]
     },
     "execution_count": 14,
     "metadata": {},
     "output_type": "execute_result"
    }
   ],
   "source": [
    "target_df['labels'].value_counts()"
   ]
  },
  {
   "cell_type": "code",
   "execution_count": 15,
   "metadata": {},
   "outputs": [
    {
     "data": {
      "text/plain": [
       "array([[[155.5,  85. ,  69. ],\n",
       "        [159. ,  90.5,  74. ],\n",
       "        [150.5,  87. ,  70.5],\n",
       "        ...,\n",
       "        [131.5,  80.5,  63. ],\n",
       "        [156. ,  81.5,  67.5],\n",
       "        [153. ,  85.5,  67. ]],\n",
       "\n",
       "       [[153.5,  84. ,  74. ],\n",
       "        [135. ,  79.5,  71. ],\n",
       "        [130. ,  79.5,  68. ],\n",
       "        ...,\n",
       "        [146. ,  83. ,  65.5],\n",
       "        [148. ,  83. ,  62.5],\n",
       "        [142.5,  83. ,  67.5]],\n",
       "\n",
       "       [[144.5,  77.5,  65.5],\n",
       "        [152.5,  80. ,  65.5],\n",
       "        [173. ,  89. ,  67.5],\n",
       "        ...,\n",
       "        [134.5,  78.5,  69.5],\n",
       "        [144.5,  78. ,  72.5],\n",
       "        [152. ,  80.5,  69. ]],\n",
       "\n",
       "       ...,\n",
       "\n",
       "       [[141. ,  99.5,  47.5],\n",
       "        [145.5, 101. ,  54.5],\n",
       "        [129.5,  91.5,  49. ],\n",
       "        ...,\n",
       "        [133. ,  94.5,  56.5],\n",
       "        [126.5,  90.5,  53.5],\n",
       "        [137.5,  91. ,  48. ]],\n",
       "\n",
       "       [[120. ,  85.5,  49. ],\n",
       "        [121. ,  86.5,  49. ],\n",
       "        [131. ,  91. ,  50. ],\n",
       "        ...,\n",
       "        [124. ,  92.5,  53. ],\n",
       "        [117. ,  83. ,  45.5],\n",
       "        [130. ,  87.5,  52. ]],\n",
       "\n",
       "       [[125. ,  87.5,  54.5],\n",
       "        [120.5,  88. ,  49.5],\n",
       "        [118.5,  93.5,  53.5],\n",
       "        ...,\n",
       "        [122. ,  82. ,  51. ],\n",
       "        [133. ,  94. ,  48.5],\n",
       "        [123. ,  80.5,  50. ]]])"
      ]
     },
     "execution_count": 15,
     "metadata": {},
     "output_type": "execute_result"
    }
   ],
   "source": [
    "target_df_arr"
   ]
  }
 ],
 "metadata": {
  "kernelspec": {
   "display_name": "Python 3",
   "language": "python",
   "name": "python3"
  },
  "language_info": {
   "codemirror_mode": {
    "name": "ipython",
    "version": 3
   },
   "file_extension": ".py",
   "mimetype": "text/x-python",
   "name": "python",
   "nbconvert_exporter": "python",
   "pygments_lexer": "ipython3",
   "version": "3.6.8"
  }
 },
 "nbformat": 4,
 "nbformat_minor": 4
}
